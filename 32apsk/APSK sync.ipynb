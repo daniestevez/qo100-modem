{
 "cells": [
  {
   "cell_type": "code",
   "execution_count": null,
   "metadata": {},
   "outputs": [],
   "source": [
    "%matplotlib inline\n",
    "import numpy as np\n",
    "import matplotlib.pyplot as plt\n",
    "import scipy.signal"
   ]
  },
  {
   "cell_type": "code",
   "execution_count": null,
   "metadata": {},
   "outputs": [],
   "source": [
    "syms = np.fromfile('qo100_apsk32_symbols.c64', 'complex64')[1000:]"
   ]
  },
  {
   "cell_type": "code",
   "execution_count": null,
   "metadata": {},
   "outputs": [],
   "source": [
    "#np.random.randint(32, size=31*49, dtype='uint8').tofile('apsk32_data.u8')"
   ]
  },
  {
   "cell_type": "code",
   "execution_count": null,
   "metadata": {},
   "outputs": [],
   "source": [
    "apsk32_symbol_map = [\n",
    "    # Outer 16\n",
    "    0b11000, 0b01000, 0b11001, 0b01001,\n",
    "    0b01101, 0b11101, 0b01100, 0b11100,\n",
    "    0b11110, 0b01110, 0b11111, 0b01111,\n",
    "    0b01011, 0b11011, 0b01010, 0b11010,\n",
    "    # Middle 12\n",
    "    0b10000, 0b00000, 0b00001,\n",
    "    0b00101, 0b00100, 0b10100,\n",
    "    0b10110, 0b00110, 0b00111,\n",
    "    0b00011, 0b00010, 0b10010,\n",
    "    # Inner 4\n",
    "    0b10001, 0b10101, 0b10111, 0b10011\n",
    "]\n",
    "\n",
    "apsk32_symbol_map_rev = [apsk32_symbol_map.index(j) for j in range(len(apsk32_symbol_map))]\n",
    "\n",
    "print(apsk32_symbol_map_rev)"
   ]
  },
  {
   "cell_type": "code",
   "execution_count": null,
   "metadata": {},
   "outputs": [],
   "source": [
    "gamma1 = 2.53\n",
    "gamma2 = 4.30\n",
    "power_32apsk = (1/gamma2**2 + 3*gamma1**2/gamma2**2 + 4)/8\n",
    "apsk32_constellation = (\n",
    "    np.concatenate((np.exp(1j*np.pi/8*np.arange(16)),\n",
    "                    gamma1/gamma2 * np.exp(1j*(np.pi/6*np.arange(12) + np.pi/12)),\n",
    "                    1/gamma2 * np.exp(1j*(np.pi/2*np.arange(4) + np.pi/4))))\n",
    "    / np.sqrt(power_32apsk))"
   ]
  },
  {
   "cell_type": "code",
   "execution_count": null,
   "metadata": {},
   "outputs": [],
   "source": [
    "prbs = np.array([1, 1, 1, 1, 1, 0, 0, 1, 1, 0, 1, 0, 0,\n",
    "                 1, 0, 0, 0, 0, 1, 0, 1, 0, 1, 1, 1, 0,\n",
    "                 1, 1, 0, 0, 0])\n",
    "apsk_mux = 50\n",
    "fft_oversample = 2\n",
    "sync = np.zeros(fft_oversample * apsk_mux * prbs.size)\n",
    "sync[::apsk_mux][:prbs.size] = 2*prbs-1\n",
    "f_sync_c = np.conjugate(np.fft.fft(sync))\n",
    "max_bin = (fft_oversample*prbs.size)//2\n",
    "doppler_shifts = np.arange(-max_bin, max_bin+1)\n",
    "f_sync_c_shifts = np.empty((doppler_shifts.size, f_sync_c.size), 'complex')\n",
    "for j, s in enumerate(doppler_shifts):\n",
    "    f_sync_c_shifts[j] = np.roll(f_sync_c, s)"
   ]
  },
  {
   "cell_type": "code",
   "execution_count": null,
   "metadata": {},
   "outputs": [],
   "source": [
    "f_syms = np.fft.fft(syms[:f_sync_c.size])\n",
    "corr = np.fft.ifft(f_syms * f_sync_c_shifts)\n",
    "corr_vs_shift = np.max(np.abs(corr), axis=1)\n",
    "plt.plot(corr_vs_shift, '.-')\n",
    "max_shift = np.argmax(corr_vs_shift)\n",
    "plt.figure()\n",
    "plt.plot(np.abs(corr[max_shift]))\n",
    "corr_pos = np.argmax(np.abs(corr[max_shift]))\n",
    "freq_estimate = 2*np.pi/f_sync_c.size*doppler_shifts[max_shift]\n",
    "phase_estimate = np.angle(corr[max_shift, corr_pos])\n",
    "print(freq_estimate, phase_estimate, corr_pos)"
   ]
  },
  {
   "cell_type": "code",
   "execution_count": null,
   "metadata": {},
   "outputs": [],
   "source": [
    "pilots = syms[corr_pos::apsk_mux]\n",
    "prbs_wipe = np.tile(2*prbs-1, int(np.ceil(pilots.size/prbs.size)))\n",
    "pilots = pilots * prbs_wipe[:pilots.size]\n",
    "plt.plot(pilots.real, pilots.imag, '.')"
   ]
  },
  {
   "cell_type": "code",
   "execution_count": null,
   "metadata": {},
   "outputs": [],
   "source": [
    "class PLL:\n",
    "    def __init__(self, prbs, apsk_mux, phase = 0, freq = 0,\n",
    "                 debug = False):\n",
    "        self.prbs = 2*prbs-1\n",
    "        self.apsk_mux = apsk_mux\n",
    "        self.current_sym = 0\n",
    "        self.current_pilot = 0\n",
    "        self.freq = freq\n",
    "        self.phase = phase\n",
    "        self.alpha = 0.1\n",
    "        self.beta = 0.001\n",
    "        self.amplitude_alpha = 0.1\n",
    "        self.amplitude = 1.0\n",
    "        self.debug = debug\n",
    "        if self.debug:\n",
    "            self.phases = list()\n",
    "            self.freqs = list()\n",
    "            self.amplitudes = list()\n",
    "    \n",
    "    def run_sample(self, x):\n",
    "        if self.debug:\n",
    "            self.phases.append(self.phase)\n",
    "            self.freqs.append(self.freq)\n",
    "            self.amplitudes.append(self.amplitude)\n",
    "        x = self.amplitude * np.exp(-1j*self.phase) * x\n",
    "        if self.current_sym == 0:\n",
    "            # Pilot symbol\n",
    "            x_wipe = x * self.prbs[self.current_pilot]\n",
    "            phase_err = np.angle(x_wipe)\n",
    "            self.freq += self.beta * phase_err\n",
    "            self.phase += self.alpha * phase_err\n",
    "            amplitude_error = 1.0 - x_wipe.real\n",
    "            self.amplitude += self.amplitude_alpha * amplitude_error\n",
    "            self.current_pilot += 1\n",
    "            self.current_pilot %= self.prbs.size\n",
    "        self.current_sym += 1\n",
    "        self.current_sym %= self.apsk_mux\n",
    "        self.phase += self.freq\n",
    "        self.phase = (self.phase + np.pi) % (2*np.pi) - np.pi\n",
    "        return x\n",
    "    \n",
    "    def run(self, syms):\n",
    "        return np.array([self.run_sample(x) for x in syms])"
   ]
  },
  {
   "cell_type": "code",
   "execution_count": null,
   "metadata": {},
   "outputs": [],
   "source": [
    "pll = PLL(prbs, apsk_mux, freq = freq_estimate, phase = phase_estimate,\n",
    "          debug = True)\n",
    "syms_out = pll.run(syms[corr_pos:])"
   ]
  },
  {
   "cell_type": "code",
   "execution_count": null,
   "metadata": {},
   "outputs": [],
   "source": [
    "plt.figure(figsize = (14,8), facecolor='w')\n",
    "sel_pilots = np.arange(syms_out.size) % apsk_mux == 0\n",
    "plt.plot(syms_out[~sel_pilots].real, syms_out[~sel_pilots].imag, '.', alpha=0.1)\n",
    "plt.plot(syms_out[sel_pilots].real, syms_out[sel_pilots].imag, '.', color='C8', alpha=0.1)\n",
    "plt.plot(apsk32_constellation.real, apsk32_constellation.imag, 'x', color='red')\n",
    "plt.plot([-1,1], [0,0], '+', color='red')\n",
    "plt.axis('equal')\n",
    "plt.ylim((-2, 2))\n",
    "plt.text(1.8, 1.5, '2570baud 32APSK', size=20)\n",
    "plt.text(1.8, 1.2, 'BPSK pilots every 50 symbols', size=13)\n",
    "plt.text(1.8, 1.0, 'RRC excess bandwidth = 5%', size=13)\n",
    "plt.text(1.8, 0.8, 'Total bandwidth = 2.7kHz', size=13)\n",
    "plt.text(1.8, -1.2, 'QO-100 over-the-air test', size=13)\n",
    "plt.text(1.8, -1.4, 'Same power as BPSK beacon', size=13)\n",
    "plt.text(1.8, -1.6, 'Uncoded BER = 5%', size=13)\n",
    "leg = plt.legend(['32APSK data symbols', 'BPSK pilot symbols'],\n",
    "                 loc='center left', prop={'size': 13})\n",
    "for lh in leg.legendHandles: \n",
    "    lh._legmarker.set_alpha(1)"
   ]
  },
  {
   "cell_type": "code",
   "execution_count": null,
   "metadata": {},
   "outputs": [],
   "source": [
    "plt.plot(pll.freqs[:10000])"
   ]
  },
  {
   "cell_type": "code",
   "execution_count": null,
   "metadata": {},
   "outputs": [],
   "source": [
    "plt.plot(pll.freqs)"
   ]
  },
  {
   "cell_type": "code",
   "execution_count": null,
   "metadata": {},
   "outputs": [],
   "source": [
    "plt.plot(scipy.signal.detrend(np.unwrap(pll.phases[:10000])))"
   ]
  },
  {
   "cell_type": "code",
   "execution_count": null,
   "metadata": {},
   "outputs": [],
   "source": [
    "plt.plot(scipy.signal.detrend(np.unwrap(pll.phases)))"
   ]
  },
  {
   "cell_type": "code",
   "execution_count": null,
   "metadata": {},
   "outputs": [],
   "source": [
    "plt.plot(pll.amplitudes[:10000])"
   ]
  },
  {
   "cell_type": "code",
   "execution_count": null,
   "metadata": {},
   "outputs": [],
   "source": [
    "symbol_dist = np.abs(syms_out[~sel_pilots][:,np.newaxis] - apsk32_constellation[np.newaxis, :])\n",
    "decode = np.array(apsk32_symbol_map)[np.argmin(symbol_dist, axis = 1)].astype('uint8')\n",
    "decode_bits = np.unpackbits(decode[:,np.newaxis], axis=1)[:,-5:].ravel()\n",
    "\n",
    "transmit = np.fromfile('apsk32_data.u8', 'uint8')\n",
    "transmit_bits = np.unpackbits(transmit[:,np.newaxis], axis=1)[:,-5:].ravel()\n",
    "\n",
    "transmit_bits_tile = np.tile(transmit_bits, int(np.ceil(decode_bits.size/transmit_bits.size)))\n",
    "ber = np.average((decode_bits ^ transmit_bits_tile[:decode_bits.size]).astype('int'))\n",
    "ber"
   ]
  }
 ],
 "metadata": {
  "kernelspec": {
   "display_name": "Python 3",
   "language": "python",
   "name": "python3"
  },
  "language_info": {
   "codemirror_mode": {
    "name": "ipython",
    "version": 3
   },
   "file_extension": ".py",
   "mimetype": "text/x-python",
   "name": "python",
   "nbconvert_exporter": "python",
   "pygments_lexer": "ipython3",
   "version": "3.9.0"
  }
 },
 "nbformat": 4,
 "nbformat_minor": 4
}
